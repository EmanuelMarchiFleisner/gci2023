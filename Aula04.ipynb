{
 "cells": [
  {
   "cell_type": "code",
   "execution_count": 46,
   "metadata": {},
   "outputs": [],
   "source": [
    "import pandas as pd\n",
    "import numpy as np\n",
    "import streamlit as st\n",
    "import altair as alt\n",
    "import matplotlib.pyplot as plt\n",
    "import seaborn as sns\n",
    "import json\n",
    "import plotly.express as px\n"
   ]
  },
  {
   "cell_type": "code",
   "execution_count": 47,
   "metadata": {},
   "outputs": [],
   "source": [
    "st.set_page_config(layout=\"wide\")"
   ]
  },
  {
   "cell_type": "code",
   "execution_count": 48,
   "metadata": {},
   "outputs": [],
   "source": [
    "@st.cache_data\n",
    "def load_database():\n",
    "    return pd.read_csv('brasil_estados.csv'), \\\n",
    "        json.load(open('brazil-states.geojson.txt'))"
   ]
  },
  {
   "cell_type": "code",
   "execution_count": 49,
   "metadata": {},
   "outputs": [],
   "source": [
    "def highlight_class_lc(s):\n",
    "    if s.outlier_max == 1:\n",
    "        return ['background-color: #00cec9']*len(s)\n",
    "    elif s.class_lc == 'acima':\n",
    "        return ['background-color: #fab1a0']*len(s)\n",
    "    elif s.class_lc == 'media':\n",
    "        return ['background-color: #ffeaa7']*len(s)\n",
    "    else:\n",
    "        return ['background-color: #74b9ff']*len(s)"
   ]
  },
  {
   "cell_type": "code",
   "execution_count": 53,
   "metadata": {},
   "outputs": [
    {
     "data": {
      "text/plain": [
       "DeltaGenerator(_root_container=0, _provided_cursor=None, _parent=None, _block_type=None, _form_data=None)"
      ]
     },
     "execution_count": 53,
     "metadata": {},
     "output_type": "execute_result"
    }
   ],
   "source": [
    "st.title('Meu primeiro App - GCI')"
   ]
  },
  {
   "cell_type": "code",
   "execution_count": 65,
   "metadata": {},
   "outputs": [
    {
     "ename": "FileNotFoundError",
     "evalue": "[Errno 2] No such file or directory: 'brazil-states.geojson.txt'",
     "output_type": "error",
     "traceback": [
      "\u001b[0;31m---------------------------------------------------------------------------\u001b[0m",
      "\u001b[0;31mCacheKeyNotFoundError\u001b[0m                     Traceback (most recent call last)",
      "File \u001b[0;32m/workspace/.pyenv_mirror/user/current/lib/python3.8/site-packages/streamlit/runtime/caching/cache_utils.py:229\u001b[0m, in \u001b[0;36mCachedFunc._get_or_create_cached_value\u001b[0;34m(self, func_args, func_kwargs)\u001b[0m\n\u001b[1;32m    228\u001b[0m \u001b[39mtry\u001b[39;00m:\n\u001b[0;32m--> 229\u001b[0m     cached_result \u001b[39m=\u001b[39m cache\u001b[39m.\u001b[39;49mread_result(value_key)\n\u001b[1;32m    230\u001b[0m     \u001b[39mreturn\u001b[39;00m \u001b[39mself\u001b[39m\u001b[39m.\u001b[39m_handle_cache_hit(cached_result)\n",
      "File \u001b[0;32m/workspace/.pyenv_mirror/user/current/lib/python3.8/site-packages/streamlit/runtime/caching/cache_data_api.py:515\u001b[0m, in \u001b[0;36mDataCache.read_result\u001b[0;34m(self, key)\u001b[0m\n\u001b[1;32m    514\u001b[0m     \u001b[39melse\u001b[39;00m:\n\u001b[0;32m--> 515\u001b[0m         \u001b[39mraise\u001b[39;00m e\n\u001b[1;32m    517\u001b[0m \u001b[39mtry\u001b[39;00m:\n",
      "File \u001b[0;32m/workspace/.pyenv_mirror/user/current/lib/python3.8/site-packages/streamlit/runtime/caching/cache_data_api.py:508\u001b[0m, in \u001b[0;36mDataCache.read_result\u001b[0;34m(self, key)\u001b[0m\n\u001b[1;32m    507\u001b[0m \u001b[39mtry\u001b[39;00m:\n\u001b[0;32m--> 508\u001b[0m     pickled_entry \u001b[39m=\u001b[39m \u001b[39mself\u001b[39;49m\u001b[39m.\u001b[39;49m_read_from_mem_cache(key)\n\u001b[1;32m    510\u001b[0m \u001b[39mexcept\u001b[39;00m CacheKeyNotFoundError \u001b[39mas\u001b[39;00m e:\n",
      "File \u001b[0;32m/workspace/.pyenv_mirror/user/current/lib/python3.8/site-packages/streamlit/runtime/caching/cache_data_api.py:606\u001b[0m, in \u001b[0;36mDataCache._read_from_mem_cache\u001b[0;34m(self, key)\u001b[0m\n\u001b[1;32m    605\u001b[0m _LOGGER\u001b[39m.\u001b[39mdebug(\u001b[39m\"\u001b[39m\u001b[39mMemory cache MISS: \u001b[39m\u001b[39m%s\u001b[39;00m\u001b[39m\"\u001b[39m, key)\n\u001b[0;32m--> 606\u001b[0m \u001b[39mraise\u001b[39;00m CacheKeyNotFoundError(\u001b[39m\"\u001b[39m\u001b[39mKey not found in mem cache\u001b[39m\u001b[39m\"\u001b[39m)\n",
      "\u001b[0;31mCacheKeyNotFoundError\u001b[0m: Key not found in mem cache",
      "\nDuring handling of the above exception, another exception occurred:\n",
      "\u001b[0;31mCacheKeyNotFoundError\u001b[0m                     Traceback (most recent call last)",
      "File \u001b[0;32m/workspace/.pyenv_mirror/user/current/lib/python3.8/site-packages/streamlit/runtime/caching/cache_utils.py:277\u001b[0m, in \u001b[0;36mCachedFunc._handle_cache_miss\u001b[0;34m(self, cache, value_key, func_args, func_kwargs)\u001b[0m\n\u001b[1;32m    276\u001b[0m \u001b[39mtry\u001b[39;00m:\n\u001b[0;32m--> 277\u001b[0m     cached_result \u001b[39m=\u001b[39m cache\u001b[39m.\u001b[39;49mread_result(value_key)\n\u001b[1;32m    278\u001b[0m     \u001b[39m# Another thread computed the value before us. Early exit!\u001b[39;00m\n",
      "File \u001b[0;32m/workspace/.pyenv_mirror/user/current/lib/python3.8/site-packages/streamlit/runtime/caching/cache_data_api.py:515\u001b[0m, in \u001b[0;36mDataCache.read_result\u001b[0;34m(self, key)\u001b[0m\n\u001b[1;32m    514\u001b[0m     \u001b[39melse\u001b[39;00m:\n\u001b[0;32m--> 515\u001b[0m         \u001b[39mraise\u001b[39;00m e\n\u001b[1;32m    517\u001b[0m \u001b[39mtry\u001b[39;00m:\n",
      "File \u001b[0;32m/workspace/.pyenv_mirror/user/current/lib/python3.8/site-packages/streamlit/runtime/caching/cache_data_api.py:508\u001b[0m, in \u001b[0;36mDataCache.read_result\u001b[0;34m(self, key)\u001b[0m\n\u001b[1;32m    507\u001b[0m \u001b[39mtry\u001b[39;00m:\n\u001b[0;32m--> 508\u001b[0m     pickled_entry \u001b[39m=\u001b[39m \u001b[39mself\u001b[39;49m\u001b[39m.\u001b[39;49m_read_from_mem_cache(key)\n\u001b[1;32m    510\u001b[0m \u001b[39mexcept\u001b[39;00m CacheKeyNotFoundError \u001b[39mas\u001b[39;00m e:\n",
      "File \u001b[0;32m/workspace/.pyenv_mirror/user/current/lib/python3.8/site-packages/streamlit/runtime/caching/cache_data_api.py:606\u001b[0m, in \u001b[0;36mDataCache._read_from_mem_cache\u001b[0;34m(self, key)\u001b[0m\n\u001b[1;32m    605\u001b[0m _LOGGER\u001b[39m.\u001b[39mdebug(\u001b[39m\"\u001b[39m\u001b[39mMemory cache MISS: \u001b[39m\u001b[39m%s\u001b[39;00m\u001b[39m\"\u001b[39m, key)\n\u001b[0;32m--> 606\u001b[0m \u001b[39mraise\u001b[39;00m CacheKeyNotFoundError(\u001b[39m\"\u001b[39m\u001b[39mKey not found in mem cache\u001b[39m\u001b[39m\"\u001b[39m)\n",
      "\u001b[0;31mCacheKeyNotFoundError\u001b[0m: Key not found in mem cache",
      "\nDuring handling of the above exception, another exception occurred:\n",
      "\u001b[0;31mFileNotFoundError\u001b[0m                         Traceback (most recent call last)",
      "Cell \u001b[0;32mIn[65], line 1\u001b[0m\n\u001b[0;32m----> 1\u001b[0m estados, fronteiras \u001b[39m=\u001b[39m load_database()\n",
      "File \u001b[0;32m/workspace/.pyenv_mirror/user/current/lib/python3.8/site-packages/streamlit/runtime/caching/cache_utils.py:178\u001b[0m, in \u001b[0;36mmake_cached_func_wrapper.<locals>.wrapper\u001b[0;34m(*args, **kwargs)\u001b[0m\n\u001b[1;32m    176\u001b[0m \u001b[39m@functools\u001b[39m\u001b[39m.\u001b[39mwraps(info\u001b[39m.\u001b[39mfunc)\n\u001b[1;32m    177\u001b[0m \u001b[39mdef\u001b[39;00m \u001b[39mwrapper\u001b[39m(\u001b[39m*\u001b[39margs, \u001b[39m*\u001b[39m\u001b[39m*\u001b[39mkwargs):\n\u001b[0;32m--> 178\u001b[0m     \u001b[39mreturn\u001b[39;00m cached_func(\u001b[39m*\u001b[39;49margs, \u001b[39m*\u001b[39;49m\u001b[39m*\u001b[39;49mkwargs)\n",
      "File \u001b[0;32m/workspace/.pyenv_mirror/user/current/lib/python3.8/site-packages/streamlit/runtime/caching/cache_utils.py:207\u001b[0m, in \u001b[0;36mCachedFunc.__call__\u001b[0;34m(self, *args, **kwargs)\u001b[0m\n\u001b[1;32m    205\u001b[0m \u001b[39mif\u001b[39;00m \u001b[39mself\u001b[39m\u001b[39m.\u001b[39m_info\u001b[39m.\u001b[39mshow_spinner \u001b[39mor\u001b[39;00m \u001b[39misinstance\u001b[39m(\u001b[39mself\u001b[39m\u001b[39m.\u001b[39m_info\u001b[39m.\u001b[39mshow_spinner, \u001b[39mstr\u001b[39m):\n\u001b[1;32m    206\u001b[0m     \u001b[39mwith\u001b[39;00m spinner(message):\n\u001b[0;32m--> 207\u001b[0m         \u001b[39mreturn\u001b[39;00m \u001b[39mself\u001b[39;49m\u001b[39m.\u001b[39;49m_get_or_create_cached_value(args, kwargs)\n\u001b[1;32m    208\u001b[0m \u001b[39melse\u001b[39;00m:\n\u001b[1;32m    209\u001b[0m     \u001b[39mreturn\u001b[39;00m \u001b[39mself\u001b[39m\u001b[39m.\u001b[39m_get_or_create_cached_value(args, kwargs)\n",
      "File \u001b[0;32m/workspace/.pyenv_mirror/user/current/lib/python3.8/site-packages/streamlit/runtime/caching/cache_utils.py:232\u001b[0m, in \u001b[0;36mCachedFunc._get_or_create_cached_value\u001b[0;34m(self, func_args, func_kwargs)\u001b[0m\n\u001b[1;32m    230\u001b[0m     \u001b[39mreturn\u001b[39;00m \u001b[39mself\u001b[39m\u001b[39m.\u001b[39m_handle_cache_hit(cached_result)\n\u001b[1;32m    231\u001b[0m \u001b[39mexcept\u001b[39;00m CacheKeyNotFoundError:\n\u001b[0;32m--> 232\u001b[0m     \u001b[39mreturn\u001b[39;00m \u001b[39mself\u001b[39;49m\u001b[39m.\u001b[39;49m_handle_cache_miss(cache, value_key, func_args, func_kwargs)\n",
      "File \u001b[0;32m/workspace/.pyenv_mirror/user/current/lib/python3.8/site-packages/streamlit/runtime/caching/cache_utils.py:286\u001b[0m, in \u001b[0;36mCachedFunc._handle_cache_miss\u001b[0;34m(self, cache, value_key, func_args, func_kwargs)\u001b[0m\n\u001b[1;32m    281\u001b[0m \u001b[39mexcept\u001b[39;00m CacheKeyNotFoundError:\n\u001b[1;32m    282\u001b[0m     \u001b[39m# We acquired the lock before any other thread. Compute the value!\u001b[39;00m\n\u001b[1;32m    283\u001b[0m     \u001b[39mwith\u001b[39;00m \u001b[39mself\u001b[39m\u001b[39m.\u001b[39m_info\u001b[39m.\u001b[39mcached_message_replay_ctx\u001b[39m.\u001b[39mcalling_cached_function(\n\u001b[1;32m    284\u001b[0m         \u001b[39mself\u001b[39m\u001b[39m.\u001b[39m_info\u001b[39m.\u001b[39mfunc, \u001b[39mself\u001b[39m\u001b[39m.\u001b[39m_info\u001b[39m.\u001b[39mallow_widgets\n\u001b[1;32m    285\u001b[0m     ):\n\u001b[0;32m--> 286\u001b[0m         computed_value \u001b[39m=\u001b[39m \u001b[39mself\u001b[39;49m\u001b[39m.\u001b[39;49m_info\u001b[39m.\u001b[39;49mfunc(\u001b[39m*\u001b[39;49mfunc_args, \u001b[39m*\u001b[39;49m\u001b[39m*\u001b[39;49mfunc_kwargs)\n\u001b[1;32m    288\u001b[0m     \u001b[39m# We've computed our value, and now we need to write it back to the cache\u001b[39;00m\n\u001b[1;32m    289\u001b[0m     \u001b[39m# along with any \"replay messages\" that were generated during value computation.\u001b[39;00m\n\u001b[1;32m    290\u001b[0m     messages \u001b[39m=\u001b[39m \u001b[39mself\u001b[39m\u001b[39m.\u001b[39m_info\u001b[39m.\u001b[39mcached_message_replay_ctx\u001b[39m.\u001b[39m_most_recent_messages\n",
      "Cell \u001b[0;32mIn[56], line 15\u001b[0m, in \u001b[0;36mload_database\u001b[0;34m()\u001b[0m\n\u001b[1;32m     12\u001b[0m \u001b[39m@st\u001b[39m\u001b[39m.\u001b[39mcache_data\n\u001b[1;32m     13\u001b[0m \u001b[39mdef\u001b[39;00m \u001b[39mload_database\u001b[39m():\n\u001b[1;32m     14\u001b[0m     \u001b[39mreturn\u001b[39;00m pd\u001b[39m.\u001b[39mread_csv(\u001b[39m'\u001b[39m\u001b[39mbrasil_estados.csv\u001b[39m\u001b[39m'\u001b[39m), \\\n\u001b[0;32m---> 15\u001b[0m         json\u001b[39m.\u001b[39mload(\u001b[39mopen\u001b[39;49m(\u001b[39m'\u001b[39;49m\u001b[39mbrazil-states.geojson.txt\u001b[39;49m\u001b[39m'\u001b[39;49m))\n",
      "File \u001b[0;32m~/.pyenv/versions/3.8.16/lib/python3.8/site-packages/IPython/core/interactiveshell.py:282\u001b[0m, in \u001b[0;36m_modified_open\u001b[0;34m(file, *args, **kwargs)\u001b[0m\n\u001b[1;32m    275\u001b[0m \u001b[39mif\u001b[39;00m file \u001b[39min\u001b[39;00m {\u001b[39m0\u001b[39m, \u001b[39m1\u001b[39m, \u001b[39m2\u001b[39m}:\n\u001b[1;32m    276\u001b[0m     \u001b[39mraise\u001b[39;00m \u001b[39mValueError\u001b[39;00m(\n\u001b[1;32m    277\u001b[0m         \u001b[39mf\u001b[39m\u001b[39m\"\u001b[39m\u001b[39mIPython won\u001b[39m\u001b[39m'\u001b[39m\u001b[39mt let you open fd=\u001b[39m\u001b[39m{\u001b[39;00mfile\u001b[39m}\u001b[39;00m\u001b[39m by default \u001b[39m\u001b[39m\"\u001b[39m\n\u001b[1;32m    278\u001b[0m         \u001b[39m\"\u001b[39m\u001b[39mas it is likely to crash IPython. If you know what you are doing, \u001b[39m\u001b[39m\"\u001b[39m\n\u001b[1;32m    279\u001b[0m         \u001b[39m\"\u001b[39m\u001b[39myou can use builtins\u001b[39m\u001b[39m'\u001b[39m\u001b[39m open.\u001b[39m\u001b[39m\"\u001b[39m\n\u001b[1;32m    280\u001b[0m     )\n\u001b[0;32m--> 282\u001b[0m \u001b[39mreturn\u001b[39;00m io_open(file, \u001b[39m*\u001b[39;49margs, \u001b[39m*\u001b[39;49m\u001b[39m*\u001b[39;49mkwargs)\n",
      "\u001b[0;31mFileNotFoundError\u001b[0m: [Errno 2] No such file or directory: 'brazil-states.geojson.txt'"
     ]
    }
   ],
   "source": [
    "estados, fronteiras = load_database()"
   ]
  },
  {
   "cell_type": "code",
   "execution_count": 58,
   "metadata": {},
   "outputs": [],
   "source": [
    "dados, estatistica, outlier, zvalues = st.tabs(['Dados', 'Estatística Descritiva', 'Outliers', 'Valores Padronizados'])"
   ]
  },
  {
   "cell_type": "code",
   "execution_count": 59,
   "metadata": {},
   "outputs": [],
   "source": [
    "variaveis = ['area', 'populacao', 'densidade', 'matricula', 'idh', 'receitas', 'despesas', 'rendimento', 'veiculos']"
   ]
  },
  {
   "cell_type": "code",
   "execution_count": 66,
   "metadata": {},
   "outputs": [
    {
     "ename": "NameError",
     "evalue": "name 'estados' is not defined",
     "output_type": "error",
     "traceback": [
      "\u001b[0;31m---------------------------------------------------------------------------\u001b[0m",
      "\u001b[0;31mNameError\u001b[0m                                 Traceback (most recent call last)",
      "Cell \u001b[0;32mIn[66], line 6\u001b[0m\n\u001b[1;32m      4\u001b[0m     st\u001b[39m.\u001b[39mdataframe(estados[estados[\u001b[39m'\u001b[39m\u001b[39mregiao_nome\u001b[39m\u001b[39m'\u001b[39m] \u001b[39m==\u001b[39m regiao])\n\u001b[1;32m      5\u001b[0m \u001b[39melse\u001b[39;00m:\n\u001b[0;32m----> 6\u001b[0m     st\u001b[39m.\u001b[39mtable(estados)\n\u001b[1;32m      7\u001b[0m \u001b[39mwith\u001b[39;00m st\u001b[39m.\u001b[39mexpander(\u001b[39m'\u001b[39m\u001b[39mMapa\u001b[39m\u001b[39m'\u001b[39m):\n\u001b[1;32m      8\u001b[0m     variavel \u001b[39m=\u001b[39m st\u001b[39m.\u001b[39mselectbox(\u001b[39m'\u001b[39m\u001b[39mVariável:\u001b[39m\u001b[39m'\u001b[39m, variaveis)\n",
      "\u001b[0;31mNameError\u001b[0m: name 'estados' is not defined"
     ]
    }
   ],
   "source": [
    "with dados:\n",
    "    if st.checkbox('Região'):\n",
    "        regiao = st.selectbox('Selecione a Região:', estados['regiao_nome'].unique())\n",
    "        st.dataframe(estados[estados['regiao_nome'] == regiao])\n",
    "    else:\n",
    "        st.table(estados)\n",
    "    with st.expander('Mapa'):\n",
    "        variavel = st.selectbox('Variável:', variaveis)\n",
    "        minimo = estados[variavel].min()\n",
    "        maximo = estados[variavel].max()\n",
    "        mapa_px = px.choropleth_mapbox(\n",
    "            data_frame = estados, \n",
    "            geojson = fronteiras, \n",
    "            locations='sigla', \n",
    "            featureidkey='properties.sigla',\n",
    "            color=variavel,\n",
    "            color_continuous_scale= 'reds',\n",
    "            hover_name = 'sigla', \n",
    "            hover_data =['uf', variavel, 'regiao_nome'],    \n",
    "            range_color=(minimo, maximo),\n",
    "            mapbox_style='carto-positron',\n",
    "            zoom=3.5, \n",
    "            center = {\"lat\": -15.76, \"lon\": -47.88},\n",
    "            opacity=1,\n",
    "            labels={'sigla' : 'Sigla',\n",
    "                    'uf': 'Estado',\n",
    "                    'regiao_nome': 'Região'\n",
    "            },\n",
    "            width = 1200,\n",
    "            height = 800,\n",
    "            title = 'Mapa do Brasil'\n",
    "        )\n",
    "        mapa_px.update_layout(margin={'r':0,'t':0,'l':0, 'b':0})\n",
    "        mapa_px.update_traces(marker_line_width=1)\n",
    "        st.plotly_chart(mapa_px)"
   ]
  },
  {
   "cell_type": "code",
   "execution_count": 62,
   "metadata": {},
   "outputs": [
    {
     "ename": "NameError",
     "evalue": "name 'estados' is not defined",
     "output_type": "error",
     "traceback": [
      "\u001b[0;31m---------------------------------------------------------------------------\u001b[0m",
      "\u001b[0;31mNameError\u001b[0m                                 Traceback (most recent call last)",
      "Cell \u001b[0;32mIn[62], line 4\u001b[0m\n\u001b[1;32m      2\u001b[0m variavel \u001b[39m=\u001b[39m st\u001b[39m.\u001b[39mselectbox(\u001b[39m'\u001b[39m\u001b[39mSelecione a variavel\u001b[39m\u001b[39m'\u001b[39m, variaveis)\n\u001b[1;32m      3\u001b[0m col1, col2, col3, col4 \u001b[39m=\u001b[39m st\u001b[39m.\u001b[39mcolumns([\u001b[39m3\u001b[39m,\u001b[39m1\u001b[39m,\u001b[39m2\u001b[39m,\u001b[39m1\u001b[39m])\n\u001b[0;32m----> 4\u001b[0m col1\u001b[39m.\u001b[39maltair_chart(alt\u001b[39m.\u001b[39mChart(estados)\u001b[39m.\u001b[39mmark_bar()\u001b[39m.\u001b[39mencode(x\u001b[39m=\u001b[39m\u001b[39m\"\u001b[39m\u001b[39muf:O\u001b[39m\u001b[39m\"\u001b[39m, y\u001b[39m=\u001b[39mvariavel\u001b[39m+\u001b[39m\u001b[39m'\u001b[39m\u001b[39m:Q\u001b[39m\u001b[39m'\u001b[39m)\u001b[39m.\u001b[39mproperties(height\u001b[39m=\u001b[39m\u001b[39m500\u001b[39m))\n\u001b[1;32m      5\u001b[0m col2\u001b[39m.\u001b[39mdataframe(\u001b[39mround\u001b[39m(estados[variavel]\u001b[39m.\u001b[39mdescribe(),\u001b[39m2\u001b[39m))\n\u001b[1;32m      6\u001b[0m base \u001b[39m=\u001b[39m alt\u001b[39m.\u001b[39mChart(estados)\n",
      "\u001b[0;31mNameError\u001b[0m: name 'estados' is not defined"
     ]
    }
   ],
   "source": [
    "with estatistica:\n",
    "    variavel = st.selectbox('Selecione a variavel', variaveis)\n",
    "    col1, col2, col3, col4 = st.columns([3,1,2,1])\n",
    "    col1.altair_chart(alt.Chart(estados).mark_bar().encode(x=\"uf:O\", y=variavel+':Q').properties(height=500))\n",
    "    col2.dataframe(round(estados[variavel].describe(),2))\n",
    "    base = alt.Chart(estados)\n",
    "    bar = base.mark_bar().encode(x=alt.X(variavel+':Q', bin=True), y='count()')\n",
    "    rule = base.mark_rule(color='red').encode(x='mean('+variavel+'):Q', size=alt.value(5))\n",
    "    rule2 = base.mark_rule(color='green').encode(x='median('+variavel+'):Q', size=alt.value(5))\n",
    "    col3.altair_chart(bar + rule + rule2)\n",
    "    col4.altair_chart(alt.Chart(estados).mark_boxplot().encode(y=variavel+':Q').properties(width=200))\n",
    "with outlier:\n",
    "    variavel = st.selectbox('Selecione a variavel para outliers', variaveis)\n",
    "    estados_var = estados[['uf', variavel]].copy()\n",
    "    iqr = estados_var[variavel].quantile(0.75) - estados_var[variavel].quantile(0.25)\n",
    "    out_min = estados_var[variavel].quantile(0.25) - (1.5 * iqr)\n",
    "    out_max = estados_var[variavel].quantile(0.75) + (1.5 * iqr)\n",
    "    limite_inferior = estados_var[variavel].mean() - (1.96 * estados_var[variavel].std() / np.sqrt(len(estados_var)))\n",
    "    limite_superior = estados_var[variavel].mean() + (1.96 * estados_var[variavel].std() / np.sqrt(len(estados_var)))\n",
    "    estados_var['outlier_min'] = estados_var[variavel].apply(lambda x : 1 if x < out_min else 0)\n",
    "    estados_var['outlier_max'] = estados_var[variavel].apply(lambda x : 1 if x > out_max else 0)\n",
    "    estados_var['class_lc'] = estados_var[variavel].apply(\n",
    "        lambda x : 'abaixo' \n",
    "        if x < limite_inferior \n",
    "        else (\n",
    "            'acima' \n",
    "            if x > limite_superior \n",
    "            else 'media'\n",
    "        ) \n",
    "    )\n",
    "    st.dataframe(estados_var.style.apply(highlight_class_lc, axis=1))\n",
    "    with st.expander('Média - Intervalo de Confiança'):\n",
    "        col1, col2, col3 = st.columns(3)\n",
    "        col1.metric('Média', round(estados_var[variavel].mean(),2), \"0\")\n",
    "        col2.metric('Limite Inferior', round(limite_inferior,2), round(limite_inferior - estados_var[variavel].mean(),2))\n",
    "        col3.metric('Limite Superior', round(limite_superior,2), round(limite_superior - estados_var[variavel].mean(),2))\n",
    "        st.altair_chart(alt.Chart(estados_var).mark_bar().encode(x=\"uf:O\", y=variavel+':Q', color='class_lc:N').properties(height=400))        \n",
    "    with st.expander('Outlier - Amplitude'):\n",
    "        col1, col2, col3 = st.columns(3)\n",
    "        col1.metric('Média', round(estados_var[variavel].mean(),2), \"0\")\n",
    "        col2.metric('Limite Inferior', round(out_min,2), round(out_min - estados_var[variavel].mean(),2))\n",
    "        col3.metric('Limite Superiorr', round(out_max,2), round(out_max - estados_var[variavel].mean(),2))\n",
    "        st.altair_chart(alt.Chart(estados_var).mark_bar().encode(x=\"uf:O\", y=variavel+':Q', color='outlier_max:N').properties(height=400))\n",
    "    with st.expander('Sem Outlier - Nova Média'):\n",
    "        estados_var_out = estados_var[(estados_var['outlier_max'] == 0) & (estados_var['outlier_min'] == 0)].copy()\n",
    "        limite_inferior = estados_var_out[variavel].mean() - (1.96 * estados_var_out[variavel].std() / np.sqrt(len(estados_var_out)))\n",
    "        limite_superior = estados_var_out[variavel].mean() + (1.96 * estados_var_out[variavel].std() / np.sqrt(len(estados_var_out)))\n",
    "        estados_var_out['class_lc'] = estados_var_out[variavel].apply(\n",
    "            lambda x : 'abaixo' \n",
    "            if x < limite_inferior \n",
    "            else (\n",
    "                'acima' \n",
    "                if x > limite_superior \n",
    "                else 'media'\n",
    "            ) \n",
    "        )\n",
    "        col1, col2, col3 = st.columns(3)\n",
    "        col1.metric('Média', round(estados_var_out[variavel].mean(),2), \"0\")\n",
    "        col2.metric('Limite Inferior', round(limite_inferior,2), round(limite_inferior - estados_var_out[variavel].mean(),2))\n",
    "        col3.metric('Limite Superiorr', round(limite_superior,2), round(limite_superior - estados_var_out[variavel].mean(),2))\n",
    "        st.altair_chart(alt.Chart(estados_var_out).mark_bar().encode(x=\"uf:O\", y=variavel+':Q', color='class_lc:N').properties(height=400))        \n",
    "with zvalues:\n",
    "    colunas = st.multiselect('colunas', variaveis)\n",
    "    if len(colunas) > 0:\n",
    "        sel = colunas\n",
    "        sel.insert(0, \"uf\")\n",
    "        estadosz = estados[sel].copy()\n",
    "        listaz = []\n",
    "        for col in estadosz.columns:\n",
    "            if col != 'uf':\n",
    "                media = estadosz[col].mean()\n",
    "                dp = estadosz[col].std()\n",
    "                estadosz['z_'+col] = estadosz[col].apply(lambda x : (x - media) / dp)\n",
    "                listaz.append('z_'+col)\n",
    "        listaz.insert(0, \"uf\")\n",
    "        with st.expander('Dados'):\n",
    "            st.dataframe(estadosz.style.hide_index().background_gradient(cmap='Blues'))\n",
    "        with st.expander('Gráfico'):\n",
    "            graphz = pd.DataFrame()\n",
    "            for zvalue in listaz:\n",
    "                if zvalue != 'uf':\n",
    "                    for index, row in estadosz.iterrows():\n",
    "                        graphz = graphz.append({'uf': row['uf'], 'variable': zvalue, 'valor': row[zvalue]}, ignore_index=True)\n",
    "            st.altair_chart(alt.Chart(graphz).mark_bar(opacity=0.5).encode(x='uf:O', y='valor:Q', color='variable:N').properties(height=400))    \n",
    "        with st.expander('Ranking'):\n",
    "            if len(colunas) > 0:\n",
    "                data = estados[colunas]\n",
    "                print(data)\n",
    "                dataz = pd.DataFrame()\n",
    "                for col in data.columns:\n",
    "                    if col != 'uf':\n",
    "                        media = estados[col].mean()\n",
    "                        dp = estados[col].std()\n",
    "                        dataz[col] = estados[col].apply(lambda x: (x - media) / dp)\n",
    "                dataz['total'] = dataz.sum(\n",
    "                    axis=1,\n",
    "                    skipna=True\n",
    "                )\n",
    "                dataz['ranking'] = dataz['total'].rank(ascending=False)\n",
    "                iqr = dataz['total'].quantile(0.75) - dataz['total'].quantile(0.25)\n",
    "                out_min = dataz['total'].quantile(0.25) - (1.5 * iqr)\n",
    "                out_max = dataz['total'].quantile(0.75) + (1.5 * iqr)\n",
    "                erro = 1.96 * dataz['total'].std() / np.sqrt(len(data))\n",
    "                li = dataz['total'].mean() - erro\n",
    "                ls = dataz['total'].mean() + erro\n",
    "                dataz['zscore'] = (dataz['total'] - dataz['total'].mean()) / dataz['total'].std()\n",
    "                dataz['stars'] = round(dataz['zscore'], 0) + 3\n",
    "                dataz['outlier_min'] = dataz['total'].apply(\n",
    "                    lambda x: 1 if x < out_min\n",
    "                    else 0\n",
    "                )\n",
    "                dataz['outlier_max'] = dataz['total'].apply(\n",
    "                    lambda x: 1 if x > out_max\n",
    "                    else 0\n",
    "                )\n",
    "                media = dataz['total'].mean()\n",
    "                dataz['class_media'] = dataz['total'].apply(\n",
    "                    lambda x: 'abaixo' if x < media\n",
    "                    else 'acima'\n",
    "                )\n",
    "                dataz['class_lc'] = dataz['total'].apply(\n",
    "                    lambda x: 'abaixo' if x < li\n",
    "                    else (\n",
    "                        'acima' if x > ls\n",
    "                        else 'media'\n",
    "                    )\n",
    "                )\n",
    "                datac = estados[['regiao_nome','uf']].copy()\n",
    "                datac = datac.merge(dataz, left_index=True, right_index=True)\n",
    "                data_sort = datac.sort_values(by='ranking')\n",
    "                st.table(data_sort.style.hide_index().background_gradient(cmap='Blues'))\n"
   ]
  },
  {
   "cell_type": "code",
   "execution_count": 63,
   "metadata": {},
   "outputs": [
    {
     "ename": "NameError",
     "evalue": "name 'estados' is not defined",
     "output_type": "error",
     "traceback": [
      "\u001b[0;31m---------------------------------------------------------------------------\u001b[0m",
      "\u001b[0;31mNameError\u001b[0m                                 Traceback (most recent call last)",
      "Cell \u001b[0;32mIn[63], line 1\u001b[0m\n\u001b[0;32m----> 1\u001b[0m \u001b[39mround\u001b[39m(estados[\u001b[39m'\u001b[39m\u001b[39marea\u001b[39m\u001b[39m'\u001b[39m])\n",
      "\u001b[0;31mNameError\u001b[0m: name 'estados' is not defined"
     ]
    }
   ],
   "source": [
    "round(estados['area'])"
   ]
  },
  {
   "cell_type": "code",
   "execution_count": null,
   "metadata": {},
   "outputs": [
    {
     "ename": "NameError",
     "evalue": "name 'estados' is not defined",
     "output_type": "error",
     "traceback": [
      "\u001b[0;31m---------------------------------------------------------------------------\u001b[0m",
      "\u001b[0;31mNameError\u001b[0m                                 Traceback (most recent call last)",
      "Cell \u001b[0;32mIn[22], line 1\u001b[0m\n\u001b[0;32m----> 1\u001b[0m area \u001b[39m=\u001b[39m estados[[\u001b[39m'\u001b[39m\u001b[39muf\u001b[39m\u001b[39m'\u001b[39m, \u001b[39m'\u001b[39m\u001b[39marea\u001b[39m\u001b[39m'\u001b[39m]]\n\u001b[1;32m      2\u001b[0m area\n",
      "\u001b[0;31mNameError\u001b[0m: name 'estados' is not defined"
     ]
    }
   ],
   "source": [
    "area = estados[['uf', 'area']]\n",
    "area"
   ]
  },
  {
   "cell_type": "code",
   "execution_count": null,
   "metadata": {},
   "outputs": [
    {
     "ename": "NameError",
     "evalue": "name 'area' is not defined",
     "output_type": "error",
     "traceback": [
      "\u001b[0;31m---------------------------------------------------------------------------\u001b[0m",
      "\u001b[0;31mNameError\u001b[0m                                 Traceback (most recent call last)",
      "Cell \u001b[0;32mIn[32], line 1\u001b[0m\n\u001b[0;32m----> 1\u001b[0m media \u001b[39m=\u001b[39m area [\u001b[39m'\u001b[39m\u001b[39marea\u001b[39m\u001b[39m'\u001b[39m]\u001b[39m.\u001b[39mmean()\n\u001b[1;32m      2\u001b[0m dp \u001b[39m=\u001b[39m area[\u001b[39m'\u001b[39m\u001b[39marea\u001b[39m\u001b[39m'\u001b[39m]\u001b[39m.\u001b[39mstd()\n\u001b[1;32m      3\u001b[0m area [\u001b[39m'\u001b[39m\u001b[39mszcore\u001b[39m\u001b[39m'\u001b[39m] \u001b[39m=\u001b[39m area[\u001b[39m'\u001b[39m\u001b[39marea\u001b[39m\u001b[39m'\u001b[39m]\u001b[39m.\u001b[39mapply(\u001b[39mlambda\u001b[39;00m x: (x \u001b[39m-\u001b[39mmedia) \u001b[39m/\u001b[39mdp)\n",
      "\u001b[0;31mNameError\u001b[0m: name 'area' is not defined"
     ]
    }
   ],
   "source": [
    "media = area ['area'].mean()\n",
    "dp = area['area'].std()\n",
    "area ['szcore'] = area['area'].apply(lambda x: (x -media) /dp)\n",
    "round (area,4)"
   ]
  },
  {
   "cell_type": "code",
   "execution_count": null,
   "metadata": {},
   "outputs": [
    {
     "ename": "NameError",
     "evalue": "name 'estados' is not defined",
     "output_type": "error",
     "traceback": [
      "\u001b[0;31m---------------------------------------------------------------------------\u001b[0m",
      "\u001b[0;31mNameError\u001b[0m                                 Traceback (most recent call last)",
      "Cell \u001b[0;32mIn[35], line 4\u001b[0m\n\u001b[1;32m      2\u001b[0m sel \u001b[39m=\u001b[39m colunas\n\u001b[1;32m      3\u001b[0m sel\u001b[39m.\u001b[39minsert(\u001b[39m0\u001b[39m, \u001b[39m\"\u001b[39m\u001b[39mutf\u001b[39m\u001b[39m\"\u001b[39m)\n\u001b[0;32m----> 4\u001b[0m estadosz \u001b[39m=\u001b[39m estados[sel]\u001b[39m.\u001b[39mcopy()\n\u001b[1;32m      5\u001b[0m listaz \u001b[39m=\u001b[39m []\n\u001b[1;32m      6\u001b[0m \u001b[39mfor\u001b[39;00m coluna \u001b[39min\u001b[39;00m lista_colunas:\n",
      "\u001b[0;31mNameError\u001b[0m: name 'estados' is not defined"
     ]
    }
   ],
   "source": [
    "colunas = ['area', 'populacao', 'idh']\n",
    "sel = colunas\n",
    "sel.insert(0, \"utf\")\n",
    "estadosz = estados[sel].copy()\n",
    "listaz = []\n",
    "for coluna in lista_colunas:\n",
    "    if coluna != \"uf\":\n",
    "        print(coluna)\n",
    "        listaz.insert(0, 'z_'+colounas)\n",
    "        media = etadosz[coluna].mean()\n",
    "        dp = estadosz[coluna].std()\n",
    "        etadosz['z_'+coluna] = estadosz[coluna].apply(lambda x : (x - media)/ dp)\n",
    "estadosz['totalz'] = estadosz[listaz].sum(axis='1')\n",
    "estadosz['ranking'] = estadosz['totalz'].rank(ascending=false)\n",
    "estadosz"
   ]
  },
  {
   "cell_type": "code",
   "execution_count": null,
   "metadata": {},
   "outputs": [],
   "source": [
    "listaz"
   ]
  },
  {
   "cell_type": "code",
   "execution_count": null,
   "metadata": {},
   "outputs": [
    {
     "ename": "NameError",
     "evalue": "name 'estadosz' is not defined",
     "output_type": "error",
     "traceback": [
      "\u001b[0;31m---------------------------------------------------------------------------\u001b[0m",
      "\u001b[0;31mNameError\u001b[0m                                 Traceback (most recent call last)",
      "Cell \u001b[0;32mIn[30], line 1\u001b[0m\n\u001b[0;32m----> 1\u001b[0m estadosz[\u001b[39m'\u001b[39m\u001b[39mtotalz\u001b[39m\u001b[39m'\u001b[39m] \u001b[39m=\u001b[39m estadosz[listaz]\u001b[39m.\u001b[39msum(axis\u001b[39m=\u001b[39m\u001b[39m1\u001b[39m)\n\u001b[1;32m      2\u001b[0m estadosz\n",
      "\u001b[0;31mNameError\u001b[0m: name 'estadosz' is not defined"
     ]
    }
   ],
   "source": [
    "estadosz['totalz'] = estadosz[listaz].sum(axis=1)\n",
    "estadosz"
   ]
  },
  {
   "cell_type": "code",
   "execution_count": null,
   "metadata": {},
   "outputs": [],
   "source": [
    "estadosz['totalz'] = estadosz[listaz].sum(axis='1')\n",
    "estadosz['ranking'] = estadosz['totalz'].rank(ascending=false)\n",
    "estadosz"
   ]
  }
 ],
 "metadata": {
  "kernelspec": {
   "display_name": "Python 3",
   "language": "python",
   "name": "python3"
  },
  "language_info": {
   "codemirror_mode": {
    "name": "ipython",
    "version": 3
   },
   "file_extension": ".py",
   "mimetype": "text/x-python",
   "name": "python",
   "nbconvert_exporter": "python",
   "pygments_lexer": "ipython3",
   "version": "3.8.16"
  },
  "orig_nbformat": 4
 },
 "nbformat": 4,
 "nbformat_minor": 2
}
